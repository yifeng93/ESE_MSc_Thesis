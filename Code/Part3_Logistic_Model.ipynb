{
 "cells": [
  {
   "cell_type": "markdown",
   "source": [
    "<h1>Table of Contents<span class=\"tocSkip\"></span></h1>\n",
    "<div class=\"toc\"><ul class=\"toc-item\"><li><span><a href=\"#1.-Final-Feature-Engineering\" data-toc-modified-id=\"1.-Final-Feature-Engineering-1\">1. Final Feature Engineering</a></span><ul class=\"toc-item\"><li><span><a href=\"#Feature-Scaling\" data-toc-modified-id=\"Feature-Scaling-1.1\">Feature Scaling</a></span></li></ul></li><li><span><a href=\"#2.-Model-With-Outliers\" data-toc-modified-id=\"2.-Model-With-Outliers-2\">2. Model With Outliers</a></span><ul class=\"toc-item\"><li><span><a href=\"#2.1-Logistic-Model(Without-SMOTE)\" data-toc-modified-id=\"2.1-Logistic-Model(Without-SMOTE)-2.1\">2.1 Logistic Model(Without SMOTE)</a></span></li><li><span><a href=\"#2.2-Logistic-Model(With-SMOTE)\" data-toc-modified-id=\"2.2-Logistic-Model(With-SMOTE)-2.2\">2.2 Logistic Model(With SMOTE)</a></span></li></ul></li><li><span><a href=\"#3.-Model-Without-Outliers\" data-toc-modified-id=\"3.-Model-Without-Outliers-3\">3. Model Without Outliers</a></span><ul class=\"toc-item\"><li><span><a href=\"#3.1-Logistic-Model-(With-SMOTE)\" data-toc-modified-id=\"3.1-Logistic-Model-(With-SMOTE)-3.1\">3.1 Logistic Model (With SMOTE)</a></span></li><li><span><a href=\"#3.2-Logistic-Model(Without-SMOTE)\" data-toc-modified-id=\"3.2-Logistic-Model(Without-SMOTE)-3.2\">3.2 Logistic Model(Without SMOTE)</a></span></li></ul></li><li><span><a href=\"#StatsModel\" data-toc-modified-id=\"StatsModel-4\">StatsModel</a></span></li></ul></div>"
   ],
   "metadata": {
    "collapsed": false,
    "pycharm": {
     "name": "#%% md\n"
    }
   }
  },
  {
   "cell_type": "code",
   "execution_count": null,
   "outputs": [],
   "source": [
    "import pandas as pd \n",
    "import numpy as np\n",
    "from sklearn.impute import SimpleImputer\n",
    "from sklearn.preprocessing import StandardScaler\n",
    "from sklearn.linear_model import LogisticRegression\n",
    "from sklearn import metrics\n",
    "from sklearn.metrics import confusion_matrix\n",
    "from sklearn.metrics import classification_report\n",
    "from sklearn.metrics import roc_auc_score\n",
    "from sklearn.metrics import roc_curve\n",
    "from sklearn.metrics import precision_recall_curve\n",
    "from sklearn.metrics import f1_score\n",
    "from sklearn.metrics import auc\n",
    "import matplotlib.pyplot as plt\n",
    "from imblearn.over_sampling import SMOTE\n",
    "from sklearn.ensemble import RandomForestClassifier\n",
    "import shap"
   ],
   "metadata": {
    "collapsed": false,
    "pycharm": {
     "name": "#%%\n"
    }
   }
  },
  {
   "cell_type": "code",
   "execution_count": null,
   "outputs": [],
   "source": [
    "df_train = pd.read_pickle('../Data/df_train_with_outliers.pkl')\n",
    "df_test = pd.read_pickle('../Data/df_test_with_outliers.pkl')\n",
    "\n",
    "# df_train = pd.read_pickle('../Data/part2_df_train_NO_outliers.pkl')\n",
    "# df_test = pd.read_pickle('../Data/part2_df_test_NO_outliers.pkl')"
   ],
   "metadata": {
    "collapsed": false,
    "pycharm": {
     "name": "#%%\n"
    }
   }
  },
  {
   "cell_type": "markdown",
   "source": [
    "## 1. Final Feature Engineering"
   ],
   "metadata": {
    "collapsed": false,
    "pycharm": {
     "name": "#%% md\n"
    }
   }
  },
  {
   "cell_type": "code",
   "execution_count": null,
   "outputs": [],
   "source": [
    "X_train = df_train.drop(['loan_status'], axis=1)\n",
    "y_train = df_train.loc[:, 'loan_status']\n",
    "\n",
    "X_test = df_test.drop(['loan_status'], axis=1)\n",
    "y_test = df_test['loan_status']"
   ],
   "metadata": {
    "collapsed": false,
    "pycharm": {
     "name": "#%%\n"
    }
   }
  },
  {
   "cell_type": "markdown",
   "source": [
    "### Feature Scaling"
   ],
   "metadata": {
    "collapsed": false,
    "pycharm": {
     "name": "#%% md\n"
    }
   }
  },
  {
   "cell_type": "markdown",
   "source": [
    "As features are measured in different units, they cover different ranges. Some ML models, such as SVM, KNN that take into account distance measures between observations are therefore significantly affected by the range of the features and scaling allows them to learn. While some methods, such as Linear Regression and Ransom Forest do not actually require feature scaling, it's still best practice to take this step when we are comparing multiple algorithms.\n",
    "\n",
    "Removing mean and dividing the standard deviation of features respectively."
   ],
   "metadata": {
    "collapsed": false,
    "pycharm": {
     "name": "#%% md\n"
    }
   }
  },
  {
   "cell_type": "code",
   "execution_count": null,
   "outputs": [],
   "source": [
    "# Create an imputer object with a median filling strategy\n",
    "scaler = StandardScaler()\n",
    "\n",
    "# Train on the training features\n",
    "scaler.fit(X_train)\n",
    "\n",
    "# Transform both training and testing data\n",
    "X_train = pd.DataFrame(scaler.transform(X_train), columns=X_train.columns)\n",
    "X_test = pd.DataFrame(scaler.transform(X_test), columns=X_test.columns)"
   ],
   "metadata": {
    "collapsed": false,
    "pycharm": {
     "name": "#%%\n"
    }
   }
  },
  {
   "cell_type": "markdown",
   "source": [
    "## 2. Model With Outliers"
   ],
   "metadata": {
    "collapsed": false,
    "pycharm": {
     "name": "#%% md\n"
    }
   }
  },
  {
   "cell_type": "markdown",
   "source": [
    "### 2.1 Logistic Model(Without SMOTE)"
   ],
   "metadata": {
    "collapsed": false,
    "pycharm": {
     "name": "#%% md\n"
    }
   }
  },
  {
   "cell_type": "code",
   "execution_count": null,
   "outputs": [],
   "source": [
    "logreg = LogisticRegression(solver='lbfgs')\n",
    "logreg.fit(X_train, y_train)"
   ],
   "metadata": {
    "collapsed": false,
    "pycharm": {
     "name": "#%%\n"
    }
   }
  },
  {
   "cell_type": "code",
   "execution_count": null,
   "outputs": [],
   "source": [
    "y_pred = logreg.predict(X_test)\n",
    "print('Accuracy of logistic regression classifier on test set: {:.2f}'.format(logreg.score(X_test, y_test)))"
   ],
   "metadata": {
    "collapsed": false,
    "pycharm": {
     "name": "#%%\n"
    }
   }
  },
  {
   "cell_type": "code",
   "execution_count": null,
   "outputs": [],
   "source": [
    "confusion_matrix = confusion_matrix(y_test, y_pred)\n",
    "print(confusion_matrix)"
   ],
   "metadata": {
    "collapsed": false,
    "pycharm": {
     "name": "#%%\n"
    }
   }
  },
  {
   "cell_type": "code",
   "execution_count": null,
   "outputs": [],
   "source": [
    "print(classification_report(y_test, y_pred))"
   ],
   "metadata": {
    "collapsed": false,
    "pycharm": {
     "name": "#%%\n"
    }
   }
  },
  {
   "cell_type": "code",
   "execution_count": null,
   "outputs": [],
   "source": [
    "logit_roc_auc = roc_auc_score(y_test, logreg.predict(X_test))\n",
    "fpr, tpr, thresholds = roc_curve(y_test, logreg.predict_proba(X_test)[:,1])\n",
    "plt.figure(figsize=(10, 10))\n",
    "plt.plot(fpr, tpr, label='Logistic Regression (area = %0.2f)' % logit_roc_auc)\n",
    "plt.plot([0, 1], [0, 1],'r--')\n",
    "plt.xlim([0.0, 1.0])\n",
    "plt.ylim([0.0, 1.05])\n",
    "plt.xlabel('False positive rate', fontsize=16)\n",
    "plt.ylabel('True positive rate', fontsize=16)\n",
    "plt.title('Receiver Operating Characteristic Curve',fontsize=18)\n",
    "plt.legend(loc=\"lower right\", fontsize = 14)\n",
    "plt.grid(visible=bool)\n",
    "plt.savefig('../Figures/log_roc_outliers_no_smote')\n",
    "plt.show()"
   ],
   "metadata": {
    "collapsed": false,
    "pycharm": {
     "name": "#%%\n"
    }
   }
  },
  {
   "cell_type": "code",
   "execution_count": null,
   "outputs": [],
   "source": [
    "lr_probs = logreg.predict_proba(X_test)\n",
    "lr_probs = lr_probs[:, 0]\n",
    "# predict class values\n",
    "yhat = logreg.predict(X_test)\n",
    "lr_precision, lr_recall, _ = precision_recall_curve(y_test, lr_probs)\n",
    "lr_f1, lr_auc = f1_score(y_test, yhat), auc(lr_recall, lr_precision)\n",
    "# summarize scores\n",
    "print('Logistic: f1=%.2f auc=%.2f' % (lr_f1, lr_auc))\n",
    "\n",
    "\n",
    "\n",
    "plt.figure(figsize=(10, 10))\n",
    "plt.plot(lr_recall, lr_precision, label='Logistic Regression (area = %0.2f)' % lr_auc)\n",
    "#plt.plot([0, 1], [0, 1],'r--')\n",
    "#plt.xlim([0.0, 1.0])\n",
    "#plt.ylim([0.0, 1.05])\n",
    "plt.xlabel('Recall', fontsize=16)\n",
    "plt.ylabel('Precision', fontsize=16)\n",
    "# plt.title('Receiver Operating Characteristic Curve',fontsize=18)\n",
    "plt.legend(loc=\"lower right\", fontsize = 14)\n",
    "plt.grid(visible=bool)\n",
    "plt.savefig('../Figures/log_prauc_outliers_no_smote')\n",
    "plt.show()"
   ],
   "metadata": {
    "collapsed": false,
    "pycharm": {
     "name": "#%%\n"
    }
   }
  },
  {
   "cell_type": "markdown",
   "source": [
    "### 2.2 Logistic Model(With SMOTE)"
   ],
   "metadata": {
    "collapsed": false,
    "pycharm": {
     "name": "#%% md\n"
    }
   }
  },
  {
   "cell_type": "code",
   "execution_count": null,
   "outputs": [],
   "source": [
    "sm = SMOTE(random_state=12, n_jobs = -1, k_neighbors=5, sampling_strategy='auto')\n",
    "X_train, y_train = sm.fit_resample(X_train, y_train)"
   ],
   "metadata": {
    "collapsed": false,
    "pycharm": {
     "name": "#%%\n"
    }
   }
  },
  {
   "cell_type": "code",
   "execution_count": null,
   "outputs": [],
   "source": [
    "logreg_smote = LogisticRegression()\n",
    "logreg_smote.fit(X_train, y_train)"
   ],
   "metadata": {
    "collapsed": false,
    "pycharm": {
     "name": "#%%\n"
    }
   }
  },
  {
   "cell_type": "code",
   "execution_count": null,
   "outputs": [],
   "source": [
    "y_pred = logreg_smote.predict(X_test)\n",
    "print('Accuracy of logistic regression classifier on test set: {:.2f}'.format(logreg_smote.score(X_test, y_test)))"
   ],
   "metadata": {
    "collapsed": false,
    "pycharm": {
     "name": "#%%\n"
    }
   }
  },
  {
   "cell_type": "code",
   "execution_count": null,
   "outputs": [],
   "source": [
    "confusion_matrix = confusion_matrix(y_test, y_pred)\n",
    "print(confusion_matrix)"
   ],
   "metadata": {
    "collapsed": false,
    "pycharm": {
     "name": "#%%\n"
    }
   }
  },
  {
   "cell_type": "code",
   "execution_count": null,
   "outputs": [],
   "source": [
    "print(classification_report(y_test, y_pred))"
   ],
   "metadata": {
    "collapsed": false,
    "pycharm": {
     "name": "#%%\n"
    }
   }
  },
  {
   "cell_type": "code",
   "execution_count": null,
   "outputs": [],
   "source": [
    "logit_roc_auc = roc_auc_score(y_test, logreg_smote.predict(X_test))\n",
    "fpr, tpr, thresholds = roc_curve(y_test, logreg_smote.predict_proba(X_test)[:,1])\n",
    "plt.figure(figsize=(10,10))\n",
    "plt.plot(fpr, tpr, label='Logistic Regression (area = %0.2f)' % logit_roc_auc)\n",
    "plt.plot([0, 1], [0, 1],'r--')\n",
    "plt.xlim([0.0, 1.0])\n",
    "plt.ylim([0.0, 1.05])\n",
    "plt.xlabel('False positive rate', fontsize=16)\n",
    "plt.ylabel('True positive rate', fontsize=16)\n",
    "plt.title('Receiver Operating Characteristic Curve',fontsize=18)\n",
    "plt.legend(loc=\"lower right\", fontsize = 14)\n",
    "plt.grid(visible=bool)\n",
    "plt.savefig('../Figures/log_roc_outliers_smote')\n",
    "plt.show()"
   ],
   "metadata": {
    "collapsed": false,
    "pycharm": {
     "name": "#%%\n"
    }
   }
  },
  {
   "cell_type": "code",
   "execution_count": null,
   "outputs": [],
   "source": [
    "lr_probs = logreg_smote.predict_proba(X_test)\n",
    "lr_probs = lr_probs[:, 1]\n",
    "# predict class values\n",
    "yhat = logreg_smote.predict(X_test)\n",
    "lr_precision, lr_recall, _ = precision_recall_curve(y_test, lr_probs)\n",
    "lr_f1, lr_auc = f1_score(y_test, yhat), auc(lr_recall, lr_precision)\n",
    "# summarize scores\n",
    "print('Logistic: f1=%.2f auc=%.2f' % (lr_f1, lr_auc))\n",
    "\n",
    "\n",
    "\n",
    "plt.figure(figsize=(10, 10))\n",
    "plt.plot(lr_recall, lr_precision, label='Logistic Regression (area = %0.2f)' % lr_auc)\n",
    "#plt.plot([0, 1], [0, 1],'r--')\n",
    "plt.xlim([0.0, 1.0])\n",
    "plt.ylim([0.0, 1.05])\n",
    "plt.xlabel('Recall', fontsize=16)\n",
    "plt.ylabel('Precision', fontsize=16)\n",
    "# plt.title('Receiver Operating Characteristic Curve',fontsize=18)\n",
    "plt.legend(loc=\"lower right\", fontsize = 14)\n",
    "plt.grid(visible=bool)\n",
    "plt.savefig('../Figures/log_prauc_outliers_no_smote')\n",
    "plt.show()"
   ],
   "metadata": {
    "collapsed": false,
    "pycharm": {
     "name": "#%%\n"
    }
   }
  },
  {
   "cell_type": "code",
   "execution_count": null,
   "outputs": [],
   "source": [
    "logit_roc_auc = roc_auc_score(y_test, logreg_smote.predict(X_test))\n",
    "fpr, tpr, thresholds = roc_curve(y_test, logreg_smote.predict_proba(X_test)[:,1])\n",
    "plt.figure(figsize=(10,10))\n",
    "plt.plot(fpr, tpr, label='Logistic Regression (area = %0.2f)' % logit_roc_auc)\n",
    "plt.plot([0, 1], [0, 1],'r--')\n",
    "plt.xlim([0.0, 1.0])\n",
    "plt.ylim([0.0, 1.05])\n",
    "plt.xlabel('False positive rate', fontsize=16)\n",
    "plt.ylabel('True positive rate', fontsize=16)\n",
    "plt.title('Receiver Operating Characteristic Curve',fontsize=18)\n",
    "plt.legend(loc=\"lower right\", fontsize = 14)\n",
    "plt.grid(visible=bool)\n",
    "plt.savefig('../Figures/log_roc_outliers_smote')\n",
    "plt.show()"
   ],
   "metadata": {
    "collapsed": false,
    "pycharm": {
     "name": "#%%\n"
    }
   }
  },
  {
   "cell_type": "code",
   "execution_count": null,
   "outputs": [],
   "source": [
    "lr_probs = logreg_smote.predict_proba(X_test)\n",
    "lr_probs = lr_probs[:, 1]\n",
    "# predict class values\n",
    "yhat = logreg_smote.predict(X_test)\n",
    "lr_precision, lr_recall, _ = precision_recall_curve(y_test, lr_probs)\n",
    "lr_f1, lr_auc = f1_score(y_test, yhat), auc(lr_recall, lr_precision)\n",
    "# summarize scores\n",
    "print('Logistic: f1=%.2f auc=%.2f' % (lr_f1, lr_auc))\n",
    "\n",
    "\n",
    "\n",
    "plt.figure(figsize=(10, 10))\n",
    "plt.plot(lr_recall, lr_precision, label='Logistic Regression (area = %0.2f)' % lr_auc)\n",
    "#plt.plot([0, 1], [0, 1],'r--')\n",
    "plt.xlim([0.0, 1.0])\n",
    "plt.ylim([0.0, 1.05])\n",
    "plt.xlabel('Recall', fontsize=16)\n",
    "plt.ylabel('Precision', fontsize=16)\n",
    "# plt.title('Receiver Operating Characteristic Curve',fontsize=18)\n",
    "plt.legend(loc=\"lower right\", fontsize = 14)\n",
    "plt.grid(visible=bool)\n",
    "plt.savefig('../Figures/log_prauc_outliers_no_smote')\n",
    "plt.show()"
   ],
   "metadata": {
    "collapsed": false,
    "pycharm": {
     "name": "#%%\n"
    }
   }
  },
  {
   "cell_type": "markdown",
   "source": [
    "## 3. Model Without Outliers"
   ],
   "metadata": {
    "collapsed": false,
    "pycharm": {
     "name": "#%% md\n"
    }
   }
  },
  {
   "cell_type": "markdown",
   "source": [
    "### 3.1 Logistic Model (With SMOTE)"
   ],
   "metadata": {
    "collapsed": false,
    "pycharm": {
     "name": "#%% md\n"
    }
   }
  },
  {
   "cell_type": "code",
   "execution_count": null,
   "outputs": [],
   "source": [
    "sm = SMOTE(random_state=12, n_jobs = -1, k_neighbors=5, sampling_strategy='auto')\n",
    "X_train, y_train = sm.fit_resample(X_train, y_train)"
   ],
   "metadata": {
    "collapsed": false,
    "pycharm": {
     "name": "#%%\n"
    }
   }
  },
  {
   "cell_type": "code",
   "execution_count": null,
   "outputs": [],
   "source": [
    "logreg = LogisticRegression()\n",
    "logreg.fit(X_train, y_train)"
   ],
   "metadata": {
    "collapsed": false,
    "pycharm": {
     "name": "#%%\n"
    }
   }
  },
  {
   "cell_type": "code",
   "execution_count": null,
   "outputs": [],
   "source": [
    "y_pred = logreg.predict(X_test)\n",
    "print('Accuracy of logistic regression classifier on test set: {:.2f}'.format(logreg.score(X_test, y_test)))"
   ],
   "metadata": {
    "collapsed": false,
    "pycharm": {
     "name": "#%%\n"
    }
   }
  },
  {
   "cell_type": "code",
   "execution_count": null,
   "outputs": [],
   "source": [
    "confusion_matrix = confusion_matrix(y_test, y_pred)\n",
    "print(confusion_matrix)"
   ],
   "metadata": {
    "collapsed": false,
    "pycharm": {
     "name": "#%%\n"
    }
   }
  },
  {
   "cell_type": "code",
   "execution_count": null,
   "outputs": [],
   "source": [
    "print(classification_report(y_test, y_pred))"
   ],
   "metadata": {
    "collapsed": false,
    "pycharm": {
     "name": "#%%\n"
    }
   }
  },
  {
   "cell_type": "code",
   "execution_count": null,
   "outputs": [],
   "source": [
    "logit_roc_auc = roc_auc_score(y_test, logreg.predict(X_test))\n",
    "fpr, tpr, thresholds = roc_curve(y_test, logreg.predict_proba(X_test)[:,1])\n",
    "plt.figure(figsize=(10,10))\n",
    "plt.plot(fpr, tpr, label='Logistic Regression (area = %0.2f)' % logit_roc_auc)\n",
    "plt.plot([0, 1], [0, 1],'r--')\n",
    "plt.xlim([0.0, 1.0])\n",
    "plt.ylim([0.0, 1.05])\n",
    "plt.xlabel('False positive rate', fontsize=16)\n",
    "plt.ylabel('True positive rate', fontsize=16)\n",
    "plt.title('Receiver Operating Characteristic Curve',fontsize=18)\n",
    "plt.legend(loc=\"lower right\", fontsize = 14)\n",
    "plt.grid(visible=bool)\n",
    "plt.savefig('../Figures/log_roc_no_outliers_smote')\n",
    "plt.show()"
   ],
   "metadata": {
    "collapsed": false,
    "pycharm": {
     "name": "#%%\n"
    }
   }
  },
  {
   "cell_type": "markdown",
   "source": [
    "### 3.2 Logistic Model(Without SMOTE)"
   ],
   "metadata": {
    "collapsed": false,
    "pycharm": {
     "name": "#%% md\n"
    }
   }
  },
  {
   "cell_type": "code",
   "execution_count": null,
   "outputs": [],
   "source": [
    "logreg = LogisticRegression()\n",
    "logreg.fit(X_train, y_train)"
   ],
   "metadata": {
    "collapsed": false,
    "pycharm": {
     "name": "#%%\n"
    }
   }
  },
  {
   "cell_type": "code",
   "execution_count": null,
   "outputs": [],
   "source": [
    "y_pred = logreg.predict(X_test)\n",
    "print('Accuracy of logistic regression classifier on test set: {:.2f}'.format(logreg.score(X_test, y_test)))"
   ],
   "metadata": {
    "collapsed": false,
    "pycharm": {
     "name": "#%%\n"
    }
   }
  },
  {
   "cell_type": "code",
   "execution_count": null,
   "outputs": [],
   "source": [
    "confusion_matrix = confusion_matrix(y_test, y_pred)\n",
    "print(confusion_matrix)"
   ],
   "metadata": {
    "collapsed": false,
    "pycharm": {
     "name": "#%%\n"
    }
   }
  },
  {
   "cell_type": "code",
   "execution_count": null,
   "outputs": [],
   "source": [
    "print(classification_report(y_test, y_pred))"
   ],
   "metadata": {
    "collapsed": false,
    "pycharm": {
     "name": "#%%\n"
    }
   }
  },
  {
   "cell_type": "code",
   "execution_count": null,
   "outputs": [],
   "source": [
    "logit_roc_auc = roc_auc_score(y_test, logreg.predict(X_test))\n",
    "fpr, tpr, thresholds = roc_curve(y_test, logreg.predict_proba(X_test)[:,1])\n",
    "plt.figure(figsize=(10,10))\n",
    "plt.plot(fpr, tpr, label='Logistic Regression (area = %0.2f)' % logit_roc_auc)\n",
    "plt.plot([0, 1], [0, 1],'r--')\n",
    "plt.xlim([0.0, 1.0])\n",
    "plt.ylim([0.0, 1.05])\n",
    "plt.xlabel('False positive rate', fontsize=16)\n",
    "plt.ylabel('True positive rate', fontsize=16)\n",
    "plt.title('Receiver Operating Characteristic Curve',fontsize=18)\n",
    "plt.legend(loc=\"lower right\", fontsize = 14)\n",
    "plt.grid(visible=bool)\n",
    "plt.savefig('../Figures/log_roc_no_outliers_no_smote')\n",
    "plt.show()"
   ],
   "metadata": {
    "collapsed": false,
    "pycharm": {
     "name": "#%%\n"
    }
   }
  },
  {
   "cell_type": "code",
   "execution_count": null,
   "outputs": [],
   "source": [
    "print(classification_report(y_test, y_pred))"
   ],
   "metadata": {
    "collapsed": false,
    "pycharm": {
     "name": "#%%\n"
    }
   }
  },
  {
   "cell_type": "code",
   "execution_count": null,
   "outputs": [],
   "source": [
    "logit_roc_auc = roc_auc_score(y_test, logreg.predict(X_test))\n",
    "fpr, tpr, thresholds = roc_curve(y_test, logreg.predict_proba(X_test)[:,1])\n",
    "plt.figure(figsize=(10,10))\n",
    "plt.plot(fpr, tpr, label='Logistic Regression (area = %0.2f)' % logit_roc_auc)\n",
    "plt.plot([0, 1], [0, 1],'r--')\n",
    "plt.xlim([0.0, 1.0])\n",
    "plt.ylim([0.0, 1.05])\n",
    "plt.xlabel('False positive rate', fontsize=16)\n",
    "plt.ylabel('True positive rate', fontsize=16)\n",
    "plt.title('Receiver Operating Characteristic Curve',fontsize=18)\n",
    "plt.legend(loc=\"lower right\", fontsize = 14)\n",
    "plt.grid(visible=bool)\n",
    "plt.savefig('../Figures/log_roc_no_outliers_no_smote')\n",
    "plt.show()"
   ],
   "metadata": {
    "collapsed": false,
    "pycharm": {
     "name": "#%%\n"
    }
   }
  },
  {
   "cell_type": "code",
   "execution_count": null,
   "outputs": [],
   "source": [
    "## StatsModel"
   ],
   "metadata": {
    "collapsed": false,
    "pycharm": {
     "name": "#%%\n"
    }
   }
  },
  {
   "cell_type": "code",
   "execution_count": null,
   "outputs": [],
   "source": [
    "import statsmodels.api as sm"
   ],
   "metadata": {
    "collapsed": false,
    "pycharm": {
     "name": "#%%\n"
    }
   }
  },
  {
   "cell_type": "code",
   "execution_count": null,
   "outputs": [],
   "source": [
    "log_stat = sm.Logit(y_train, X_train).fit()"
   ],
   "metadata": {
    "collapsed": false,
    "pycharm": {
     "name": "#%%\n"
    }
   }
  },
  {
   "cell_type": "code",
   "execution_count": null,
   "outputs": [],
   "source": [
    "print(log_stat.summary())"
   ],
   "metadata": {
    "collapsed": false,
    "pycharm": {
     "name": "#%%\n"
    }
   }
  },
  {
   "cell_type": "code",
   "execution_count": 9,
   "id": "7d7f42e2",
   "metadata": {
    "pycharm": {
     "name": "#%%\n"
    }
   },
   "outputs": [],
   "source": [
    "import statsmodels.api as sm"
   ]
  },
  {
   "cell_type": "code",
   "execution_count": 10,
   "id": "aa814c9c",
   "metadata": {
    "pycharm": {
     "name": "#%%\n"
    }
   },
   "outputs": [
    {
     "name": "stdout",
     "output_type": "stream",
     "text": [
      "Optimization terminated successfully.\n",
      "         Current function value: 0.619378\n",
      "         Iterations 6\n"
     ]
    }
   ],
   "source": [
    "log_stat = sm.Logit(y_train, X_train).fit()"
   ]
  },
  {
   "cell_type": "code",
   "execution_count": 11,
   "id": "8c4aaf72",
   "metadata": {
    "pycharm": {
     "name": "#%%\n"
    }
   },
   "outputs": [
    {
     "name": "stdout",
     "output_type": "stream",
     "text": [
      "                           Logit Regression Results                           \n",
      "==============================================================================\n",
      "Dep. Variable:            loan_status   No. Observations:               708624\n",
      "Model:                          Logit   Df Residuals:                   708506\n",
      "Method:                           MLE   Df Model:                          117\n",
      "Date:                Mon, 27 Jun 2022   Pseudo R-squ.:                  0.1064\n",
      "Time:                        14:52:04   Log-Likelihood:            -4.3891e+05\n",
      "converged:                       True   LL-Null:                   -4.9118e+05\n",
      "Covariance Type:            nonrobust   LLR p-value:                     0.000\n",
      "=======================================================================================================\n",
      "                                          coef    std err          z      P>|z|      [0.025      0.975]\n",
      "-------------------------------------------------------------------------------------------------------\n",
      "loan_amnt                              -0.1564      0.004    -44.680      0.000      -0.163      -0.150\n",
      "int_rate                               -0.0220      0.021     -1.046      0.295      -0.063       0.019\n",
      "annual_inc                              0.0371      0.005      7.689      0.000       0.028       0.047\n",
      "dti                                    -0.2545      0.005    -50.354      0.000      -0.264      -0.245\n",
      "revol_bal                               0.0221      0.004      5.695      0.000       0.014       0.030\n",
      "revol_util                             -0.0847      0.005    -16.918      0.000      -0.094      -0.075\n",
      "total_acc                              -0.0226      0.004     -6.106      0.000      -0.030      -0.015\n",
      "total_bal_il                            0.1172      0.004     32.071      0.000       0.110       0.124\n",
      "il_util                                -0.0848      0.004    -22.078      0.000      -0.092      -0.077\n",
      "max_bal_bc                              0.1357      0.004     32.951      0.000       0.128       0.144\n",
      "all_util                                0.0500      0.005      9.609      0.000       0.040       0.060\n",
      "inq_fi                                 -0.0058      0.003     -2.028      0.043      -0.011      -0.000\n",
      "total_cu_tl                             0.0710      0.003     23.898      0.000       0.065       0.077\n",
      "mo_sin_old_il_acct                      0.0065      0.003      2.218      0.027       0.001       0.012\n",
      "mo_sin_old_rev_tl_op                    0.0089      0.003      2.900      0.004       0.003       0.015\n",
      "mort_acc                                0.1563      0.004     43.140      0.000       0.149       0.163\n",
      "pub_rec_bankruptcies                    0.0502      0.003     18.158      0.000       0.045       0.056\n",
      "fico_score                              0.2032      0.004     51.637      0.000       0.195       0.211\n",
      "term_60                                -0.1557      0.003    -49.204      0.000      -0.162      -0.150\n",
      "sub_grade_A2                           -0.0280      0.005     -6.044      0.000      -0.037      -0.019\n",
      "sub_grade_A3                           -0.0392      0.005     -8.662      0.000      -0.048      -0.030\n",
      "sub_grade_A4                           -0.0558      0.005    -11.686      0.000      -0.065      -0.046\n",
      "sub_grade_A5                           -0.0819      0.005    -16.024      0.000      -0.092      -0.072\n",
      "sub_grade_B1                           -0.1308      0.006    -21.758      0.000      -0.143      -0.119\n",
      "sub_grade_B2                           -0.1256      0.006    -19.646      0.000      -0.138      -0.113\n",
      "sub_grade_B3                           -0.1480      0.007    -21.178      0.000      -0.162      -0.134\n",
      "sub_grade_B4                           -0.1822      0.008    -24.026      0.000      -0.197      -0.167\n",
      "sub_grade_B5                           -0.2151      0.009    -25.078      0.000      -0.232      -0.198\n",
      "sub_grade_C1                           -0.2453      0.009    -26.396      0.000      -0.264      -0.227\n",
      "sub_grade_C2                           -0.2456      0.009    -26.289      0.000      -0.264      -0.227\n",
      "sub_grade_C3                           -0.2465      0.010    -25.828      0.000      -0.265      -0.228\n",
      "sub_grade_C4                           -0.2677      0.010    -25.696      0.000      -0.288      -0.247\n",
      "sub_grade_C5                           -0.2748      0.011    -24.604      0.000      -0.297      -0.253\n",
      "sub_grade_D1                           -0.2382      0.010    -24.821      0.000      -0.257      -0.219\n",
      "sub_grade_D2                           -0.2358      0.010    -23.528      0.000      -0.255      -0.216\n",
      "sub_grade_D3                           -0.2293      0.010    -23.059      0.000      -0.249      -0.210\n",
      "sub_grade_D4                           -0.2122      0.010    -22.205      0.000      -0.231      -0.193\n",
      "sub_grade_D5                           -0.1949      0.009    -20.927      0.000      -0.213      -0.177\n",
      "sub_grade_E1                           -0.1860      0.009    -21.098      0.000      -0.203      -0.169\n",
      "sub_grade_E2                           -0.1727      0.009    -20.100      0.000      -0.190      -0.156\n",
      "sub_grade_E3                           -0.1600      0.008    -18.902      0.000      -0.177      -0.143\n",
      "sub_grade_E4                           -0.1536      0.008    -18.282      0.000      -0.170      -0.137\n",
      "sub_grade_E5                           -0.1673      0.009    -18.709      0.000      -0.185      -0.150\n",
      "sub_grade_F1                           -0.1345      0.008    -17.933      0.000      -0.149      -0.120\n",
      "sub_grade_F2                           -0.1245      0.007    -18.588      0.000      -0.138      -0.111\n",
      "sub_grade_F3                           -0.1104      0.007    -16.917      0.000      -0.123      -0.098\n",
      "sub_grade_F4                           -0.1045      0.006    -16.801      0.000      -0.117      -0.092\n",
      "sub_grade_F5                           -0.1014      0.006    -16.623      0.000      -0.113      -0.089\n",
      "sub_grade_G1                           -0.0829      0.006    -14.718      0.000      -0.094      -0.072\n",
      "sub_grade_G2                           -0.0783      0.005    -15.538      0.000      -0.088      -0.068\n",
      "sub_grade_G3                           -0.0709      0.005    -14.798      0.000      -0.080      -0.061\n",
      "sub_grade_G4                           -0.0704      0.005    -14.748      0.000      -0.080      -0.061\n",
      "sub_grade_G5                           -0.0653      0.005    -13.981      0.000      -0.074      -0.056\n",
      "home_ownership_OWN                      0.0026      0.003      0.891      0.373      -0.003       0.008\n",
      "home_ownership_RENT                    -0.1263      0.003    -36.993      0.000      -0.133      -0.120\n",
      "verification_status_Source Verified    -0.0316      0.003     -9.439      0.000      -0.038      -0.025\n",
      "verification_status_Verified           -0.0562      0.003    -16.664      0.000      -0.063      -0.050\n",
      "purpose_credit_card                    -0.0842      0.011     -7.504      0.000      -0.106      -0.062\n",
      "purpose_debt_consolidation             -0.1435      0.014    -10.532      0.000      -0.170      -0.117\n",
      "purpose_home_improvement               -0.0778      0.008    -10.157      0.000      -0.093      -0.063\n",
      "purpose_house                          -0.0161      0.003     -4.900      0.000      -0.023      -0.010\n",
      "purpose_major_purchase                 -0.0471      0.005     -9.500      0.000      -0.057      -0.037\n",
      "purpose_medical                        -0.0582      0.004    -14.373      0.000      -0.066      -0.050\n",
      "purpose_moving                         -0.0330      0.003     -9.453      0.000      -0.040      -0.026\n",
      "purpose_other                          -0.0577      0.007     -7.875      0.000      -0.072      -0.043\n",
      "purpose_renewable_energy               -0.0128      0.003     -4.909      0.000      -0.018      -0.008\n",
      "purpose_small_business                 -0.0788      0.004    -20.907      0.000      -0.086      -0.071\n",
      "purpose_vacation                       -0.0332      0.004     -9.301      0.000      -0.040      -0.026\n",
      "addr_state_AL                          -0.0416      0.007     -5.964      0.000      -0.055      -0.028\n",
      "addr_state_AR                          -0.0378      0.006     -6.584      0.000      -0.049      -0.027\n",
      "addr_state_AZ                          -0.0239      0.010     -2.433      0.015      -0.043      -0.005\n",
      "addr_state_CA                          -0.0482      0.021     -2.304      0.021      -0.089      -0.007\n",
      "addr_state_CO                           0.0259      0.009      2.800      0.005       0.008       0.044\n",
      "addr_state_CT                           0.0027      0.008      0.362      0.717      -0.012       0.018\n",
      "addr_state_DC                           0.0157      0.004      3.955      0.000       0.008       0.023\n",
      "addr_state_DE                          -0.0064      0.004     -1.557      0.120      -0.014       0.002\n",
      "addr_state_FL                          -0.0541      0.016     -3.426      0.001      -0.085      -0.023\n",
      "addr_state_GA                          -0.0059      0.011     -0.549      0.583      -0.027       0.015\n",
      "addr_state_HI                           0.0084      0.005      1.732      0.083      -0.001       0.018\n",
      "addr_state_ID                           0.0059      0.004      1.410      0.159      -0.002       0.014\n",
      "addr_state_IL                          -0.0199      0.012     -1.716      0.086      -0.043       0.003\n",
      "addr_state_IN                          -0.0302      0.008     -3.654      0.000      -0.046      -0.014\n",
      "addr_state_KS                          -0.0003      0.006     -0.044      0.965      -0.012       0.011\n",
      "addr_state_KY                          -0.0199      0.006     -3.122      0.002      -0.032      -0.007\n",
      "addr_state_LA                          -0.0422      0.007     -6.250      0.000      -0.055      -0.029\n",
      "addr_state_MA                          -0.0227      0.009     -2.453      0.014      -0.041      -0.005\n",
      "addr_state_MD                          -0.0437      0.009     -4.726      0.000      -0.062      -0.026\n",
      "addr_state_ME                           0.0184      0.004      4.279      0.000       0.010       0.027\n",
      "addr_state_MI                          -0.0381      0.010     -3.841      0.000      -0.058      -0.019\n",
      "addr_state_MN                          -0.0189      0.008     -2.278      0.023      -0.035      -0.003\n",
      "addr_state_MO                          -0.0313      0.008     -3.983      0.000      -0.047      -0.016\n",
      "addr_state_MS                          -0.0355      0.005     -6.675      0.000      -0.046      -0.025\n",
      "addr_state_MT                           0.0030      0.004      0.738      0.461      -0.005       0.011\n",
      "addr_state_NC                          -0.0236      0.010     -2.291      0.022      -0.044      -0.003\n",
      "addr_state_ND                           0.0012      0.004      0.312      0.755      -0.006       0.009\n",
      "addr_state_NE                          -0.0155      0.005     -3.173      0.002      -0.025      -0.006\n",
      "addr_state_NH                           0.0102      0.005      2.054      0.040       0.000       0.020\n",
      "addr_state_NJ                          -0.0448      0.011     -4.010      0.000      -0.067      -0.023\n",
      "addr_state_NM                          -0.0197      0.005     -3.908      0.000      -0.030      -0.010\n",
      "addr_state_NV                          -0.0216      0.008     -2.748      0.006      -0.037      -0.006\n",
      "addr_state_NY                          -0.0630      0.016     -3.868      0.000      -0.095      -0.031\n",
      "addr_state_OH                          -0.0282      0.011     -2.592      0.010      -0.050      -0.007\n",
      "addr_state_OK                          -0.0346      0.006     -5.551      0.000      -0.047      -0.022\n",
      "addr_state_OR                           0.0357      0.007      5.118      0.000       0.022       0.049\n",
      "addr_state_PA                          -0.0358      0.011     -3.308      0.001      -0.057      -0.015\n",
      "addr_state_RI                           0.0040      0.005      0.847      0.397      -0.005       0.013\n",
      "addr_state_SC                           0.0158      0.007      2.252      0.024       0.002       0.029\n",
      "addr_state_SD                          -0.0062      0.004     -1.669      0.095      -0.014       0.001\n",
      "addr_state_TN                          -0.0199      0.008     -2.481      0.013      -0.036      -0.004\n",
      "addr_state_TX                          -0.0592      0.017     -3.519      0.000      -0.092      -0.026\n",
      "addr_state_UT                           0.0041      0.006      0.700      0.484      -0.007       0.015\n",
      "addr_state_VA                          -0.0248      0.010     -2.501      0.012      -0.044      -0.005\n",
      "addr_state_VT                           0.0097      0.004      2.541      0.011       0.002       0.017\n",
      "addr_state_WA                           0.0279      0.009      3.132      0.002       0.010       0.045\n",
      "addr_state_WI                          -0.0105      0.007     -1.422      0.155      -0.025       0.004\n",
      "addr_state_WV                           0.0055      0.004      1.578      0.115      -0.001       0.012\n",
      "addr_state_WY                          -0.0039      0.004     -1.039      0.299      -0.011       0.003\n",
      "initial_list_status_w                  -0.0232      0.003     -8.303      0.000      -0.029      -0.018\n",
      "=======================================================================================================\n"
     ]
    }
   ],
   "source": [
    "print(log_stat.summary())"
   ]
  }
 ],
 "metadata": {
  "kernelspec": {
   "display_name": "Python 3 (ipykernel)",
   "language": "python",
   "name": "python3"
  },
  "language_info": {
   "codemirror_mode": {
    "name": "ipython",
    "version": 3
   },
   "file_extension": ".py",
   "mimetype": "text/x-python",
   "name": "python",
   "nbconvert_exporter": "python",
   "pygments_lexer": "ipython3",
   "version": "3.8.13"
  },
  "toc": {
   "base_numbering": 1,
   "nav_menu": {},
   "number_sections": false,
   "sideBar": true,
   "skip_h1_title": false,
   "title_cell": "Table of Contents",
   "title_sidebar": "Contents",
   "toc_cell": true,
   "toc_position": {
    "height": "calc(100% - 180px)",
    "left": "10px",
    "top": "150px",
    "width": "165px"
   },
   "toc_section_display": true,
   "toc_window_display": false
  },
  "varInspector": {
   "cols": {
    "lenName": 16,
    "lenType": 16,
    "lenVar": 40
   },
   "kernels_config": {
    "python": {
     "delete_cmd_postfix": "",
     "delete_cmd_prefix": "del ",
     "library": "var_list.py",
     "varRefreshCmd": "print(var_dic_list())"
    },
    "r": {
     "delete_cmd_postfix": ") ",
     "delete_cmd_prefix": "rm(",
     "library": "var_list.r",
     "varRefreshCmd": "cat(var_dic_list()) "
    }
   },
   "oldHeight": 521.775,
   "position": {
    "height": "40px",
    "left": "487.25px",
    "right": "20px",
    "top": "8px",
    "width": "553px"
   },
   "types_to_exclude": [
    "module",
    "function",
    "builtin_function_or_method",
    "instance",
    "_Feature"
   ],
   "varInspector_section_display": "none",
   "window_display": true
  }
 },
 "nbformat": 4,
 "nbformat_minor": 5
}